{
  "nbformat": 4,
  "nbformat_minor": 0,
  "metadata": {
    "colab": {
      "provenance": [],
      "collapsed_sections": []
    },
    "kernelspec": {
      "name": "python3",
      "display_name": "Python 3"
    },
    "language_info": {
      "name": "python"
    }
  },
  "cells": [
    {
      "cell_type": "markdown",
      "source": [
        "[![Open In Colab](https://colab.research.google.com/assets/colab-badge.svg)](https://colab.research.google.com/github/jykr/beige/blob/main/beige_tutorial.ipynb)"
      ],
      "metadata": {
        "id": "z2hsdvnCNz5l"
      },
      "execution_count": null,
      "outputs": []
    },
    {
      "cell_type": "markdown",
      "source": [
        "If you encounter the error \"ImportError: cannot import name '_png' from 'matplotlib' (/usr/local/lib/python3.7/dist-packages/matplotlib/___init__.py)\", restarting runtime will resolve the issue."
      ],
      "metadata": {
        "id": "R7yR4IFVKlPc"
      }
    },
    {
      "cell_type": "code",
      "execution_count": 26,
      "metadata": {
        "colab": {
          "base_uri": "https://localhost:8080/"
        },
        "id": "0hkx2t-7_erS",
        "outputId": "f24295ef-8ab3-43d9-9c01-0ba19918c00a"
      },
      "outputs": [
        {
          "output_type": "stream",
          "name": "stdout",
          "text": [
            "Looking in indexes: https://pypi.org/simple, https://us-python.pkg.dev/colab-wheels/public/simple/\n",
            "Collecting beret-beige==0.0.6\n",
            "  Downloading beret_beige-0.0.6-py3-none-any.whl (13 kB)\n",
            "Requirement already satisfied: berets in /usr/local/lib/python3.7/dist-packages (from beret-beige==0.0.6) (0.1.2)\n",
            "Requirement already satisfied: pyro-ppl in /usr/local/lib/python3.7/dist-packages (from beret-beige==0.0.6) (1.8.2)\n",
            "Requirement already satisfied: numpy in /usr/local/lib/python3.7/dist-packages (from beret-beige==0.0.6) (1.21.6)\n",
            "Requirement already satisfied: perturb-tools>=0.0.16 in /usr/local/lib/python3.7/dist-packages (from berets->beret-beige==0.0.6) (0.1.4)\n",
            "Requirement already satisfied: pool-sharq>=0.0.12 in /usr/local/lib/python3.7/dist-packages (from perturb-tools>=0.0.16->berets->beret-beige==0.0.6) (0.0.12)\n",
            "Requirement already satisfied: biopython>=1.79 in /usr/local/lib/python3.7/dist-packages (from perturb-tools>=0.0.16->berets->beret-beige==0.0.6) (1.79)\n",
            "Requirement already satisfied: pandas>=1.1.2 in /usr/local/lib/python3.7/dist-packages (from perturb-tools>=0.0.16->berets->beret-beige==0.0.6) (1.3.5)\n",
            "Requirement already satisfied: regex in /usr/local/lib/python3.7/dist-packages (from perturb-tools>=0.0.16->berets->beret-beige==0.0.6) (2022.6.2)\n",
            "Requirement already satisfied: matplotlib>=3.4 in /usr/local/lib/python3.7/dist-packages (from perturb-tools>=0.0.16->berets->beret-beige==0.0.6) (3.5.3)\n",
            "Requirement already satisfied: anndata>=0.7.1 in /usr/local/lib/python3.7/dist-packages (from perturb-tools>=0.0.16->berets->beret-beige==0.0.6) (0.8.0)\n",
            "Requirement already satisfied: plotly in /usr/local/lib/python3.7/dist-packages (from perturb-tools>=0.0.16->berets->beret-beige==0.0.6) (5.5.0)\n",
            "Requirement already satisfied: importlib_metadata>=0.7 in /usr/local/lib/python3.7/dist-packages (from anndata>=0.7.1->perturb-tools>=0.0.16->berets->beret-beige==0.0.6) (4.12.0)\n",
            "Requirement already satisfied: scipy>1.4 in /usr/local/lib/python3.7/dist-packages (from anndata>=0.7.1->perturb-tools>=0.0.16->berets->beret-beige==0.0.6) (1.7.3)\n",
            "Requirement already satisfied: typing_extensions in /usr/local/lib/python3.7/dist-packages (from anndata>=0.7.1->perturb-tools>=0.0.16->berets->beret-beige==0.0.6) (4.1.1)\n",
            "Requirement already satisfied: packaging>=20 in /usr/local/lib/python3.7/dist-packages (from anndata>=0.7.1->perturb-tools>=0.0.16->berets->beret-beige==0.0.6) (21.3)\n",
            "Requirement already satisfied: h5py>=3 in /usr/local/lib/python3.7/dist-packages (from anndata>=0.7.1->perturb-tools>=0.0.16->berets->beret-beige==0.0.6) (3.1.0)\n",
            "Requirement already satisfied: natsort in /usr/local/lib/python3.7/dist-packages (from anndata>=0.7.1->perturb-tools>=0.0.16->berets->beret-beige==0.0.6) (5.5.0)\n",
            "Requirement already satisfied: cached-property in /usr/local/lib/python3.7/dist-packages (from h5py>=3->anndata>=0.7.1->perturb-tools>=0.0.16->berets->beret-beige==0.0.6) (1.5.2)\n",
            "Requirement already satisfied: zipp>=0.5 in /usr/local/lib/python3.7/dist-packages (from importlib_metadata>=0.7->anndata>=0.7.1->perturb-tools>=0.0.16->berets->beret-beige==0.0.6) (3.8.1)\n",
            "Requirement already satisfied: fonttools>=4.22.0 in /usr/local/lib/python3.7/dist-packages (from matplotlib>=3.4->perturb-tools>=0.0.16->berets->beret-beige==0.0.6) (4.37.3)\n",
            "Requirement already satisfied: pillow>=6.2.0 in /usr/local/lib/python3.7/dist-packages (from matplotlib>=3.4->perturb-tools>=0.0.16->berets->beret-beige==0.0.6) (7.1.2)\n",
            "Requirement already satisfied: pyparsing>=2.2.1 in /usr/local/lib/python3.7/dist-packages (from matplotlib>=3.4->perturb-tools>=0.0.16->berets->beret-beige==0.0.6) (3.0.9)\n",
            "Requirement already satisfied: cycler>=0.10 in /usr/local/lib/python3.7/dist-packages (from matplotlib>=3.4->perturb-tools>=0.0.16->berets->beret-beige==0.0.6) (0.11.0)\n",
            "Requirement already satisfied: python-dateutil>=2.7 in /usr/local/lib/python3.7/dist-packages (from matplotlib>=3.4->perturb-tools>=0.0.16->berets->beret-beige==0.0.6) (2.8.2)\n",
            "Requirement already satisfied: kiwisolver>=1.0.1 in /usr/local/lib/python3.7/dist-packages (from matplotlib>=3.4->perturb-tools>=0.0.16->berets->beret-beige==0.0.6) (1.4.4)\n",
            "Requirement already satisfied: pytz>=2017.3 in /usr/local/lib/python3.7/dist-packages (from pandas>=1.1.2->perturb-tools>=0.0.16->berets->beret-beige==0.0.6) (2022.2.1)\n",
            "Requirement already satisfied: licorice>=0.0.2 in /usr/local/lib/python3.7/dist-packages (from pool-sharq>=0.0.12->perturb-tools>=0.0.16->berets->beret-beige==0.0.6) (0.0.3)\n",
            "Requirement already satisfied: tqdm>=4.62.3 in /usr/local/lib/python3.7/dist-packages (from pool-sharq>=0.0.12->perturb-tools>=0.0.16->berets->beret-beige==0.0.6) (4.64.1)\n",
            "Requirement already satisfied: pyrequisites>=0.0.2 in /usr/local/lib/python3.7/dist-packages (from pool-sharq>=0.0.12->perturb-tools>=0.0.16->berets->beret-beige==0.0.6) (0.0.2)\n",
            "Requirement already satisfied: beautifulsoup4>=4.10.0 in /usr/local/lib/python3.7/dist-packages (from pool-sharq>=0.0.12->perturb-tools>=0.0.16->berets->beret-beige==0.0.6) (4.11.1)\n",
            "Requirement already satisfied: requests>=2.26.0 in /usr/local/lib/python3.7/dist-packages (from pool-sharq>=0.0.12->perturb-tools>=0.0.16->berets->beret-beige==0.0.6) (2.28.1)\n",
            "Requirement already satisfied: soupsieve>1.2 in /usr/local/lib/python3.7/dist-packages (from beautifulsoup4>=4.10.0->pool-sharq>=0.0.12->perturb-tools>=0.0.16->berets->beret-beige==0.0.6) (2.3.2.post1)\n",
            "Requirement already satisfied: six>=1.5 in /usr/local/lib/python3.7/dist-packages (from python-dateutil>=2.7->matplotlib>=3.4->perturb-tools>=0.0.16->berets->beret-beige==0.0.6) (1.15.0)\n",
            "Requirement already satisfied: charset-normalizer<3,>=2 in /usr/local/lib/python3.7/dist-packages (from requests>=2.26.0->pool-sharq>=0.0.12->perturb-tools>=0.0.16->berets->beret-beige==0.0.6) (2.1.1)\n",
            "Requirement already satisfied: idna<4,>=2.5 in /usr/local/lib/python3.7/dist-packages (from requests>=2.26.0->pool-sharq>=0.0.12->perturb-tools>=0.0.16->berets->beret-beige==0.0.6) (2.10)\n",
            "Requirement already satisfied: certifi>=2017.4.17 in /usr/local/lib/python3.7/dist-packages (from requests>=2.26.0->pool-sharq>=0.0.12->perturb-tools>=0.0.16->berets->beret-beige==0.0.6) (2022.6.15)\n",
            "Requirement already satisfied: urllib3<1.27,>=1.21.1 in /usr/local/lib/python3.7/dist-packages (from requests>=2.26.0->pool-sharq>=0.0.12->perturb-tools>=0.0.16->berets->beret-beige==0.0.6) (1.24.3)\n",
            "Requirement already satisfied: tenacity>=6.2.0 in /usr/local/lib/python3.7/dist-packages (from plotly->perturb-tools>=0.0.16->berets->beret-beige==0.0.6) (8.0.1)\n",
            "Requirement already satisfied: opt-einsum>=2.3.2 in /usr/local/lib/python3.7/dist-packages (from pyro-ppl->beret-beige==0.0.6) (3.3.0)\n",
            "Requirement already satisfied: torch>=1.11.0 in /usr/local/lib/python3.7/dist-packages (from pyro-ppl->beret-beige==0.0.6) (1.12.1+cu113)\n",
            "Requirement already satisfied: pyro-api>=0.1.1 in /usr/local/lib/python3.7/dist-packages (from pyro-ppl->beret-beige==0.0.6) (0.1.2)\n",
            "Installing collected packages: beret-beige\n",
            "  Attempting uninstall: beret-beige\n",
            "    Found existing installation: beret-beige 0.0.5\n",
            "    Uninstalling beret-beige-0.0.5:\n",
            "      Successfully uninstalled beret-beige-0.0.5\n",
            "Successfully installed beret-beige-0.0.6\n"
          ]
        }
      ],
      "source": [
        "! pip install beret-beige==0.0.6"
      ]
    },
    {
      "cell_type": "code",
      "source": [
        "! beige"
      ],
      "metadata": {
        "colab": {
          "base_uri": "https://localhost:8080/"
        },
        "id": "i8VaASbP_sHw",
        "outputId": "d5e53ca6-0cc4-411e-d146-8af322583e14"
      },
      "execution_count": 4,
      "outputs": [
        {
          "output_type": "stream",
          "name": "stdout",
          "text": [
            "INFO  @ Wed, 21 Sep 2022 07:50:37:\n",
            "\t generated new fontManager \n",
            "\n",
            "usage: beige [-h] [--fit-pi] [--rep-pi] [--perfect-edit]\n",
            "             [--guide_activity_column GUIDE_ACTIVITY_COLUMN]\n",
            "             [--pi-prior-weight PI_PRIOR_WEIGHT] [--prefix PREFIX]\n",
            "             [--sorting_bin_upper_quantile_column SORTING_BIN_UPPER_QUANTILE_COLUMN]\n",
            "             [--sorting_bin_lower_quantile_column SORTING_BIN_LOWER_QUANTILE_COLUMN]\n",
            "             [--cuda] [--sample-mask-column SAMPLE_MASK_COLUMN]\n",
            "             bdata_path\n",
            "beige: error: the following arguments are required: bdata_path\n"
          ]
        }
      ]
    },
    {
      "cell_type": "markdown",
      "source": [
        "## Format data to feed into the model"
      ],
      "metadata": {
        "id": "bNK5Qc37CPp0"
      }
    },
    {
      "cell_type": "code",
      "source": [
        "! gdown 18Azb8YmmMvFZo9urc2TxZr540xXWOv_v"
      ],
      "metadata": {
        "colab": {
          "base_uri": "https://localhost:8080/"
        },
        "id": "rlPdv-cICeSx",
        "outputId": "c4040131-6d9f-4bef-db96-47dcf9e3d4f2"
      },
      "execution_count": null,
      "outputs": [
        {
          "output_type": "stream",
          "name": "stdout",
          "text": [
            "Downloading...\n",
            "From: https://drive.google.com/uc?id=18Azb8YmmMvFZo9urc2TxZr540xXWOv_v\n",
            "To: /content/beret_count_072121_ABE_topbot_LDLvar.h5ad\n",
            "100% 40.2M/40.2M [00:00<00:00, 186MB/s]\n"
          ]
        }
      ]
    },
    {
      "cell_type": "code",
      "source": [
        "import pickle as pkl\n",
        "import numpy as np\n",
        "import matplotlib.pyplot as plt\n",
        "import beret as be\n"
      ],
      "metadata": {
        "id": "vVVyCQqeCVP9"
      },
      "execution_count": 13,
      "outputs": []
    },
    {
      "cell_type": "code",
      "source": [
        "bdata= be.read_h5ad(\"beret_count_072121_ABE_topbot_LDLvar.h5ad\")"
      ],
      "metadata": {
        "id": "VnzVNLOsGjBa"
      },
      "execution_count": 8,
      "outputs": []
    },
    {
      "cell_type": "code",
      "source": [
        "bdata.condit[\"rep\"], bdata.condit[\"sort\"] = zip(*bdata.condit.index.map(lambda s: s.rsplit(\"_\", 1)))"
      ],
      "metadata": {
        "id": "U-yCp-idGoDd"
      },
      "execution_count": 18,
      "outputs": []
    },
    {
      "cell_type": "markdown",
      "source": [
        "Input the upper and lower sorting quantile of each sorting bins:"
      ],
      "metadata": {
        "id": "fNcUNw8YISii"
      }
    },
    {
      "cell_type": "code",
      "source": [
        "bdata.condit['upper_quantile'] = 1.0\n",
        "bdata.condit.loc[bdata.condit.sort == \"bot\", \"upper_quantile\"] = 0.3\n",
        "bdata.condit['lower_quantile'] = 0.0\n",
        "bdata.condit.loc[bdata.condit.sort == \"top\", \"lower_quantile\"] = 0.7"
      ],
      "metadata": {
        "id": "NssIa6RzG-9B"
      },
      "execution_count": 22,
      "outputs": []
    },
    {
      "cell_type": "code",
      "source": [
        "bdata.write(\"beret_count.h5ad\")"
      ],
      "metadata": {
        "id": "Huoe9ascGtYH"
      },
      "execution_count": 23,
      "outputs": []
    },
    {
      "cell_type": "markdown",
      "source": [
        "Now we're ready to run the model!"
      ],
      "metadata": {
        "id": "IIWWv27EIgoe"
      }
    },
    {
      "cell_type": "markdown",
      "source": [
        "## Scenario 1. CRISPR screen data **without** reporter data"
      ],
      "metadata": {
        "id": "uZ00ELvCIjbv"
      }
    },
    {
      "cell_type": "markdown",
      "source": [
        "If you don't have reporter information measured, you can take one of three options for analysis:\n",
        "1. `--fit-pi` : Editing rate is fitted so that overall likelihood of the model is maximized.\n",
        "2. `--perfect-edit` : Assuming editing rate is 1 for all guides. This option is recommended over 1) based on the inference accuracy in simulation data.\n",
        "3. `--guide_activity_column=your_col_name` : If you want to use external information about guide activity estimated using other software, input the guide activity in the Screen.guides DataFrame (see `Screen` object in [perturb-tools](https://github.com/pinellolab/perturb-tools)).Pass the column name as the argument.(under development)"
      ],
      "metadata": {
        "id": "YAQ8kNbRIpFt"
      }
    },
    {
      "cell_type": "code",
      "source": [
        "%%shell\n",
        "beige beret_count.h5ad --prefix=perf_edit --perfect-edit"
      ],
      "metadata": {
        "colab": {
          "base_uri": "https://localhost:8080/"
        },
        "id": "GCa0bBfwCBam",
        "outputId": "1412c9f6-da57-4913-c5b3-7322bcdb5172"
      },
      "execution_count": 28,
      "outputs": [
        {
          "output_type": "stream",
          "name": "stdout",
          "text": [
            "INFO  @ Wed, 21 Sep 2022 08:22:05:\n",
            "\t generated new fontManager \n",
            "\n",
            "Done loading data. Preprocessing...\n",
            "Linear fit of log(a0) ~ log(q): [b0, b1]=[-1.35738604  0.89983998], cov=[[ 0.00286364 -0.00058358]\n",
            " [-0.00058358  0.00012305]]\n",
            "Running inference for model A...\n",
            "  0% 0/2000 [00:00<?, ?it/s]loss 57768.849842300726 @ iter 0\n",
            "  5% 100/2000 [00:01<00:36, 52.44it/s]loss 56241.330520649295 @ iter 100\n",
            " 10% 196/2000 [00:03<00:33, 53.75it/s]loss 55299.01943926985 @ iter 200\n",
            " 15% 298/2000 [00:05<00:32, 52.70it/s]loss 54662.11686373059 @ iter 300\n",
            " 20% 400/2000 [00:07<00:30, 53.15it/s]loss 54222.57767572075 @ iter 400\n",
            " 25% 496/2000 [00:09<00:28, 52.59it/s]loss 54008.02751491477 @ iter 500\n",
            " 30% 598/2000 [00:11<00:27, 51.46it/s]loss 53917.58015525791 @ iter 600\n",
            " 35% 700/2000 [00:13<00:24, 52.33it/s]loss 53853.48229570638 @ iter 700\n",
            " 40% 796/2000 [00:15<00:22, 52.76it/s]loss 53807.70074745731 @ iter 800\n",
            " 45% 898/2000 [00:17<00:20, 53.46it/s]loss 53828.863369921644 @ iter 900\n",
            " 50% 1000/2000 [00:19<00:19, 52.37it/s]loss 53790.91378633207 @ iter 1000\n",
            " 55% 1096/2000 [00:21<00:17, 51.90it/s]loss 53832.55578663075 @ iter 1100\n",
            " 60% 1198/2000 [00:23<00:15, 52.46it/s]loss 53797.64061676021 @ iter 1200\n",
            " 65% 1300/2000 [00:24<00:13, 51.60it/s]loss 53811.04259626857 @ iter 1300\n",
            " 70% 1396/2000 [00:26<00:11, 51.27it/s]loss 53846.36656528471 @ iter 1400\n",
            " 75% 1498/2000 [00:28<00:09, 51.51it/s]loss 53878.006028002805 @ iter 1500\n",
            " 80% 1599/2000 [00:30<00:07, 52.42it/s]loss 53760.16726921271 @ iter 1600\n",
            " 85% 1700/2000 [00:32<00:05, 52.81it/s]loss 53787.1859964143 @ iter 1700\n",
            " 90% 1796/2000 [00:34<00:04, 50.79it/s]loss 53809.74787331662 @ iter 1800\n",
            " 95% 1900/2000 [00:37<00:03, 29.52it/s]loss 53832.44183941986 @ iter 1900\n",
            "100% 2000/2000 [00:39<00:00, 50.94it/s]\n",
            "/usr/local/lib/python3.7/dist-packages/pyro/infer/autoguide/guides.py:590: UserWarning: To copy construct from a tensor, it is recommended to use sourceTensor.clone().detach() or sourceTensor.clone().detach().requires_grad_(True), rather than torch.tensor(sourceTensor).\n",
            "  quantiles, dtype=site_loc.dtype, device=site_loc.device\n",
            "Done running inference. Writing result at perf_edit/beret_count.modelA.result.pkl...\n",
            "Done!\n"
          ]
        },
        {
          "output_type": "execute_result",
          "data": {
            "text/plain": []
          },
          "metadata": {},
          "execution_count": 28
        }
      ]
    },
    {
      "cell_type": "markdown",
      "source": [
        "## Scenario 2. CRISPR screen data **with** reporter data"
      ],
      "metadata": {
        "id": "LINCLnawJjPf"
      }
    },
    {
      "cell_type": "code",
      "source": [
        "%%shell\n",
        "beige beret_count.h5ad --prefix=mixture #[--rep-pi]"
      ],
      "metadata": {
        "colab": {
          "base_uri": "https://localhost:8080/"
        },
        "id": "soyf13SyJmf9",
        "outputId": "b3462bd5-acf2-407e-ef91-104ac5f9a909"
      },
      "execution_count": 31,
      "outputs": [
        {
          "output_type": "stream",
          "name": "stdout",
          "text": [
            "INFO  @ Wed, 21 Sep 2022 08:25:43:\n",
            "\t generated new fontManager \n",
            "\n",
            "Done loading data. Preprocessing...\n",
            "Linear fit of log(a0) ~ log(q): [b0, b1]=[-1.35738604  0.89983998], cov=[[ 0.00286364 -0.00058358]\n",
            " [-0.00058358  0.00012305]]\n",
            "Running inference for model B...\n",
            "  0% 0/2000 [00:00<?, ?it/s]loss 255667.66722958046 @ iter 0\n",
            "  5% 100/2000 [00:02<00:56, 33.48it/s]loss 110682.05714203106 @ iter 100\n",
            " 10% 199/2000 [00:06<00:54, 32.98it/s]loss 73354.12146017441 @ iter 200\n",
            " 15% 299/2000 [00:09<00:50, 33.79it/s]loss 63976.051619360216 @ iter 300\n",
            " 20% 399/2000 [00:12<00:58, 27.46it/s]loss 59963.095599660024 @ iter 400\n",
            " 25% 500/2000 [00:17<01:40, 14.86it/s]loss 57681.92181810699 @ iter 500\n",
            " 30% 597/2000 [00:21<00:48, 28.80it/s]loss 56316.10032960888 @ iter 600\n",
            " 35% 699/2000 [00:25<01:16, 17.04it/s]loss 55358.39977158179 @ iter 700\n",
            " 40% 799/2000 [00:29<00:35, 34.25it/s]loss 54745.119015610835 @ iter 800\n",
            " 45% 899/2000 [00:31<00:30, 35.80it/s]loss 54334.498362539365 @ iter 900\n",
            " 50% 999/2000 [00:34<00:28, 35.66it/s]loss 54020.37702066699 @ iter 1000\n",
            " 55% 1098/2000 [00:37<00:42, 20.99it/s]loss 53778.26585214821 @ iter 1100\n",
            " 60% 1198/2000 [00:41<00:22, 34.99it/s]loss 53593.53335890168 @ iter 1200\n",
            " 65% 1298/2000 [00:44<00:19, 35.14it/s]loss 53439.078728247616 @ iter 1300\n",
            " 70% 1397/2000 [00:47<00:18, 33.01it/s]loss 53337.122363892406 @ iter 1400\n",
            " 75% 1499/2000 [00:50<00:14, 33.94it/s]loss 53217.662394121115 @ iter 1500\n",
            " 80% 1598/2000 [00:54<00:11, 35.25it/s]loss 53154.103064222836 @ iter 1600\n",
            " 85% 1698/2000 [00:56<00:08, 34.58it/s]loss 53067.839710444925 @ iter 1700\n",
            " 90% 1798/2000 [00:59<00:05, 34.80it/s]loss 53012.71713165708 @ iter 1800\n",
            " 95% 1899/2000 [01:04<00:03, 30.79it/s]loss 52961.47620135363 @ iter 1900\n",
            "100% 2000/2000 [01:07<00:00, 29.65it/s]\n",
            "/usr/local/lib/python3.7/dist-packages/pyro/infer/autoguide/guides.py:590: UserWarning: To copy construct from a tensor, it is recommended to use sourceTensor.clone().detach() or sourceTensor.clone().detach().requires_grad_(True), rather than torch.tensor(sourceTensor).\n",
            "  quantiles, dtype=site_loc.dtype, device=site_loc.device\n",
            "Done running inference. Writing result at mixture/beret_count.modelB.result.pkl...\n",
            "Done!\n"
          ]
        },
        {
          "output_type": "execute_result",
          "data": {
            "text/plain": []
          },
          "metadata": {},
          "execution_count": 31
        }
      ]
    },
    {
      "cell_type": "code",
      "source": [],
      "metadata": {
        "id": "VxLVV5m1J0Bw"
      },
      "execution_count": null,
      "outputs": []
    },
    {
      "cell_type": "markdown",
      "source": [
        "Result is saved in `prefix/{file_name}.model{model_class}.result.pkl`. "
      ],
      "metadata": {
        "id": "kcNyVYSnJ4An"
      }
    },
    {
      "cell_type": "code",
      "source": [
        "with open(\"perf_edit/beret_count.modelA.result.pkl\", \"rb\") as f:\n",
        "  res = pkl.load(f)"
      ],
      "metadata": {
        "id": "zfl7NVZ0KB8E"
      },
      "execution_count": 19,
      "outputs": []
    },
    {
      "cell_type": "code",
      "source": [
        "plt.plot(res['loss'])\n",
        "plt.xlabel(\"iter\")\n",
        "plt.ylabel(\"loss\")"
      ],
      "metadata": {
        "colab": {
          "base_uri": "https://localhost:8080/",
          "height": 298
        },
        "id": "Vq1EtVcJKXCQ",
        "outputId": "b862d619-ee9e-4406-f74e-f44d2aaa320f"
      },
      "execution_count": 5,
      "outputs": [
        {
          "output_type": "execute_result",
          "data": {
            "text/plain": [
              "Text(0, 0.5, 'loss')"
            ]
          },
          "metadata": {},
          "execution_count": 5
        },
        {
          "output_type": "display_data",
          "data": {
            "text/plain": [
              "<Figure size 432x288 with 1 Axes>"
            ],
            "image/png": "[encoded data removed]"
          },
          "metadata": {
            "needs_background": "light"
          }
        }
      ]
    },
    {
      "cell_type": "code",
      "source": [
        "plt.scatter(res['mu'], res['mu_sd'])"
      ],
      "metadata": {
        "colab": {
          "base_uri": "https://localhost:8080/",
          "height": 284
        },
        "id": "-upUeImOLAFS",
        "outputId": "b9743bee-d932-4213-d914-a0384e58e4c0"
      },
      "execution_count": 6,
      "outputs": [
        {
          "output_type": "execute_result",
          "data": {
            "text/plain": [
              "<matplotlib.collections.PathCollection at 0x7f3b4b6c2e10>"
            ]
          },
          "metadata": {},
          "execution_count": 6
        },
        {
          "output_type": "display_data",
          "data": {
            "text/plain": [
              "<Figure size 432x288 with 1 Axes>"
            ],
            "image/png": "[encoded data removed]"
          },
          "metadata": {
            "needs_background": "light"
          }
        }
      ]
    },
    {
      "cell_type": "markdown",
      "source": [
        "Order of the paramters is the same as `bdata.guides[target_col].unique()`."
      ],
      "metadata": {
        "id": "9j-JY9k4LYGy"
      }
    },
    {
      "cell_type": "code",
      "source": [
        "bdata.guides[[\"target\", \"Group2\"]].drop_duplicates().iloc[np.where(abs(res['z_score']) > 2)[0],:]"
      ],
      "metadata": {
        "colab": {
          "base_uri": "https://localhost:8080/",
          "height": 771
        },
        "id": "39zStsqULh5D",
        "outputId": "f7a58646-4dce-483c-96cd-c92a414f6f46"
      },
      "execution_count": 26,
      "outputs": [
        {
          "output_type": "execute_result",
          "data": {
            "text/plain": [
              "                                               target       Group2\n",
              "name                                                              \n",
              "CONTROL_12_g1                              CONTROL_12      NegCtrl\n",
              "CONTROL_5_g1                                CONTROL_5      NegCtrl\n",
              "LDLR_SA_1_g1                                LDLR_SA_1  PosCtrl_dec\n",
              "LDLR_SA_2_g1                                LDLR_SA_2  PosCtrl_dec\n",
              "LDLR_SA_4_g1                                LDLR_SA_4  PosCtrl_dec\n",
              "LDLR_SA_5_g1                                LDLR_SA_5  PosCtrl_dec\n",
              "LDLR_SA_6_g1                                LDLR_SA_6  PosCtrl_dec\n",
              "LDLR_SA_8_g1                                LDLR_SA_8  PosCtrl_dec\n",
              "LDLR_SD_12_g1                              LDLR_SD_12  PosCtrl_dec\n",
              "LDLR_SD_13_g1                              LDLR_SD_13  PosCtrl_dec\n",
              "LDLR_SD_15_g1                              LDLR_SD_15  PosCtrl_dec\n",
              "LDLR_SD_16_g1                              LDLR_SD_16  PosCtrl_dec\n",
              "LDLR_SD_9_g1                                LDLR_SD_9  PosCtrl_dec\n",
              "MYLIP_SA_86_g1                            MYLIP_SA_86  PosCtrl_inc\n",
              "MYLIP_SD_87_g1                            MYLIP_SD_87  PosCtrl_inc\n",
              "SREBF2_SA_62_g1                          SREBF2_SA_62  PosCtrl_dec\n",
              "16:72078989TGT_Maj_ABE_5_g1  16:72078989TGT_Maj_ABE_5      Variant\n",
              "6:16138117TAT_Maj_ABE_18_g1  6:16138117TAT_Maj_ABE_18      Variant\n",
              "rs11065979_Min_ABE_368_g1      rs11065979_Min_ABE_368      Variant\n",
              "rs2740488_Maj_ABE_155_g1        rs2740488_Maj_ABE_155      Variant\n",
              "rs34514836_Maj_ABE_171_g1      rs34514836_Maj_ABE_171      Variant\n",
              "rs7278985_Min_ABE_555_g1        rs7278985_Min_ABE_555      Variant"
            ],
            "text/html": [
              "\n",
              "  <div id=\"df-9945018a-9097-4da1-9496-c6b9928014d5\">\n",
              "    <div class=\"colab-df-container\">\n",
              "      <div>\n",
              "<style scoped>\n",
              "    .dataframe tbody tr th:only-of-type {\n",
              "        vertical-align: middle;\n",
              "    }\n",
              "\n",
              "    .dataframe tbody tr th {\n",
              "        vertical-align: top;\n",
              "    }\n",
              "\n",
              "    .dataframe thead th {\n",
              "        text-align: right;\n",
              "    }\n",
              "</style>\n",
              "<table border=\"1\" class=\"dataframe\">\n",
              "  <thead>\n",
              "    <tr style=\"text-align: right;\">\n",
              "      <th></th>\n",
              "      <th>target</th>\n",
              "      <th>Group2</th>\n",
              "    </tr>\n",
              "    <tr>\n",
              "      <th>name</th>\n",
              "      <th></th>\n",
              "      <th></th>\n",
              "    </tr>\n",
              "  </thead>\n",
              "  <tbody>\n",
              "    <tr>\n",
              "      <th>CONTROL_12_g1</th>\n",
              "      <td>CONTROL_12</td>\n",
              "      <td>NegCtrl</td>\n",
              "    </tr>\n",
              "    <tr>\n",
              "      <th>CONTROL_5_g1</th>\n",
              "      <td>CONTROL_5</td>\n",
              "      <td>NegCtrl</td>\n",
              "    </tr>\n",
              "    <tr>\n",
              "      <th>LDLR_SA_1_g1</th>\n",
              "      <td>LDLR_SA_1</td>\n",
              "      <td>PosCtrl_dec</td>\n",
              "    </tr>\n",
              "    <tr>\n",
              "      <th>LDLR_SA_2_g1</th>\n",
              "      <td>LDLR_SA_2</td>\n",
              "      <td>PosCtrl_dec</td>\n",
              "    </tr>\n",
              "    <tr>\n",
              "      <th>LDLR_SA_4_g1</th>\n",
              "      <td>LDLR_SA_4</td>\n",
              "      <td>PosCtrl_dec</td>\n",
              "    </tr>\n",
              "    <tr>\n",
              "      <th>LDLR_SA_5_g1</th>\n",
              "      <td>LDLR_SA_5</td>\n",
              "      <td>PosCtrl_dec</td>\n",
              "    </tr>\n",
              "    <tr>\n",
              "      <th>LDLR_SA_6_g1</th>\n",
              "      <td>LDLR_SA_6</td>\n",
              "      <td>PosCtrl_dec</td>\n",
              "    </tr>\n",
              "    <tr>\n",
              "      <th>LDLR_SA_8_g1</th>\n",
              "      <td>LDLR_SA_8</td>\n",
              "      <td>PosCtrl_dec</td>\n",
              "    </tr>\n",
              "    <tr>\n",
              "      <th>LDLR_SD_12_g1</th>\n",
              "      <td>LDLR_SD_12</td>\n",
              "      <td>PosCtrl_dec</td>\n",
              "    </tr>\n",
              "    <tr>\n",
              "      <th>LDLR_SD_13_g1</th>\n",
              "      <td>LDLR_SD_13</td>\n",
              "      <td>PosCtrl_dec</td>\n",
              "    </tr>\n",
              "    <tr>\n",
              "      <th>LDLR_SD_15_g1</th>\n",
              "      <td>LDLR_SD_15</td>\n",
              "      <td>PosCtrl_dec</td>\n",
              "    </tr>\n",
              "    <tr>\n",
              "      <th>LDLR_SD_16_g1</th>\n",
              "      <td>LDLR_SD_16</td>\n",
              "      <td>PosCtrl_dec</td>\n",
              "    </tr>\n",
              "    <tr>\n",
              "      <th>LDLR_SD_9_g1</th>\n",
              "      <td>LDLR_SD_9</td>\n",
              "      <td>PosCtrl_dec</td>\n",
              "    </tr>\n",
              "    <tr>\n",
              "      <th>MYLIP_SA_86_g1</th>\n",
              "      <td>MYLIP_SA_86</td>\n",
              "      <td>PosCtrl_inc</td>\n",
              "    </tr>\n",
              "    <tr>\n",
              "      <th>MYLIP_SD_87_g1</th>\n",
              "      <td>MYLIP_SD_87</td>\n",
              "      <td>PosCtrl_inc</td>\n",
              "    </tr>\n",
              "    <tr>\n",
              "      <th>SREBF2_SA_62_g1</th>\n",
              "      <td>SREBF2_SA_62</td>\n",
              "      <td>PosCtrl_dec</td>\n",
              "    </tr>\n",
              "    <tr>\n",
              "      <th>16:72078989TGT_Maj_ABE_5_g1</th>\n",
              "      <td>16:72078989TGT_Maj_ABE_5</td>\n",
              "      <td>Variant</td>\n",
              "    </tr>\n",
              "    <tr>\n",
              "      <th>6:16138117TAT_Maj_ABE_18_g1</th>\n",
              "      <td>6:16138117TAT_Maj_ABE_18</td>\n",
              "      <td>Variant</td>\n",
              "    </tr>\n",
              "    <tr>\n",
              "      <th>rs11065979_Min_ABE_368_g1</th>\n",
              "      <td>rs11065979_Min_ABE_368</td>\n",
              "      <td>Variant</td>\n",
              "    </tr>\n",
              "    <tr>\n",
              "      <th>rs2740488_Maj_ABE_155_g1</th>\n",
              "      <td>rs2740488_Maj_ABE_155</td>\n",
              "      <td>Variant</td>\n",
              "    </tr>\n",
              "    <tr>\n",
              "      <th>rs34514836_Maj_ABE_171_g1</th>\n",
              "      <td>rs34514836_Maj_ABE_171</td>\n",
              "      <td>Variant</td>\n",
              "    </tr>\n",
              "    <tr>\n",
              "      <th>rs7278985_Min_ABE_555_g1</th>\n",
              "      <td>rs7278985_Min_ABE_555</td>\n",
              "      <td>Variant</td>\n",
              "    </tr>\n",
              "  </tbody>\n",
              "</table>\n",
              "</div>\n",
              "      <button class=\"colab-df-convert\" onclick=\"convertToInteractive('df-9945018a-9097-4da1-9496-c6b9928014d5')\"\n",
              "              title=\"Convert this dataframe to an interactive table.\"\n",
              "              style=\"display:none;\">\n",
              "        \n",
              "  <svg xmlns=\"http://www.w3.org/2000/svg\" height=\"24px\"viewBox=\"0 0 24 24\"\n",
              "       width=\"24px\">\n",
              "    <path d=\"M0 0h24v24H0V0z\" fill=\"none\"/>\n",
              "    <path d=\"M18.56 5.44l.94 2.06.94-2.06 2.06-.94-2.06-.94-.94-2.06-.94 2.06-2.06.94zm-11 1L8.5 8.5l.94-2.06 2.06-.94-2.06-.94L8.5 2.5l-.94 2.06-2.06.94zm10 10l.94 2.06.94-2.06 2.06-.94-2.06-.94-.94-2.06-.94 2.06-2.06.94z\"/><path d=\"M17.41 7.96l-1.37-1.37c-.4-.4-.92-.59-1.43-.59-.52 0-1.04.2-1.43.59L10.3 9.45l-7.72 7.72c-.78.78-.78 2.05 0 2.83L4 21.41c.39.39.9.59 1.41.59.51 0 1.02-.2 1.41-.59l7.78-7.78 2.81-2.81c.8-.78.8-2.07 0-2.86zM5.41 20L4 18.59l7.72-7.72 1.47 1.35L5.41 20z\"/>\n",
              "  </svg>\n",
              "      </button>\n",
              "      \n",
              "  <style>\n",
              "    .colab-df-container {\n",
              "      display:flex;\n",
              "      flex-wrap:wrap;\n",
              "      gap: 12px;\n",
              "    }\n",
              "\n",
              "    .colab-df-convert {\n",
              "      background-color: #E8F0FE;\n",
              "      border: none;\n",
              "      border-radius: 50%;\n",
              "      cursor: pointer;\n",
              "      display: none;\n",
              "      fill: #1967D2;\n",
              "      height: 32px;\n",
              "      padding: 0 0 0 0;\n",
              "      width: 32px;\n",
              "    }\n",
              "\n",
              "    .colab-df-convert:hover {\n",
              "      background-color: #E2EBFA;\n",
              "      box-shadow: 0px 1px 2px rgba(60, 64, 67, 0.3), 0px 1px 3px 1px rgba(60, 64, 67, 0.15);\n",
              "      fill: #174EA6;\n",
              "    }\n",
              "\n",
              "    [theme=dark] .colab-df-convert {\n",
              "      background-color: #3B4455;\n",
              "      fill: #D2E3FC;\n",
              "    }\n",
              "\n",
              "    [theme=dark] .colab-df-convert:hover {\n",
              "      background-color: #434B5C;\n",
              "      box-shadow: 0px 1px 3px 1px rgba(0, 0, 0, 0.15);\n",
              "      filter: drop-shadow(0px 1px 2px rgba(0, 0, 0, 0.3));\n",
              "      fill: #FFFFFF;\n",
              "    }\n",
              "  </style>\n",
              "\n",
              "      <script>\n",
              "        const buttonEl =\n",
              "          document.querySelector('#df-9945018a-9097-4da1-9496-c6b9928014d5 button.colab-df-convert');\n",
              "        buttonEl.style.display =\n",
              "          google.colab.kernel.accessAllowed ? 'block' : 'none';\n",
              "\n",
              "        async function convertToInteractive(key) {\n",
              "          const element = document.querySelector('#df-9945018a-9097-4da1-9496-c6b9928014d5');\n",
              "          const dataTable =\n",
              "            await google.colab.kernel.invokeFunction('convertToInteractive',\n",
              "                                                     [key], {});\n",
              "          if (!dataTable) return;\n",
              "\n",
              "          const docLinkHtml = 'Like what you see? Visit the ' +\n",
              "            '<a target=\"_blank\" href=https://colab.research.google.com/notebooks/data_table.ipynb>data table notebook</a>'\n",
              "            + ' to learn more about interactive tables.';\n",
              "          element.innerHTML = '';\n",
              "          dataTable['output_type'] = 'display_data';\n",
              "          await google.colab.output.renderOutput(dataTable, element);\n",
              "          const docLink = document.createElement('div');\n",
              "          docLink.innerHTML = docLinkHtml;\n",
              "          element.appendChild(docLink);\n",
              "        }\n",
              "      </script>\n",
              "    </div>\n",
              "  </div>\n",
              "  "
            ]
          },
          "metadata": {},
          "execution_count": 26
        }
      ]
    },
    {
      "cell_type": "markdown",
      "source": [],
      "metadata": {
        "id": "FuUaRltsNINQ"
      }
    }
  ]
}
